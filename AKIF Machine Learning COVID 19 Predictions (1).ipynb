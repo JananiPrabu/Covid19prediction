{
 "cells": [
  {
   "cell_type": "markdown",
   "metadata": {},
   "source": [
    "# COVID-19 INDIA DATA ANALYSIS AND TRAINING MACHINE LEARNING MODEL (REGRESSION MODEL) TO PREDICT CASES IN UPCOMING DAYS"
   ]
  },
  {
   "cell_type": "raw",
   "metadata": {},
   "source": [
    "BY JANANI PRABU"
   ]
  },
  {
   "cell_type": "markdown",
   "metadata": {},
   "source": [
    "## Import Libraries."
   ]
  },
  {
   "cell_type": "code",
   "execution_count": 1,
   "metadata": {},
   "outputs": [],
   "source": [
    "import pandas as pd \n",
    "import numpy as np \n",
    "import matplotlib.pyplot as plt "
   ]
  },
  {
   "cell_type": "markdown",
   "metadata": {},
   "source": [
    "## Reading .csv file as dataframe."
   ]
  },
  {
   "cell_type": "code",
   "execution_count": 2,
   "metadata": {},
   "outputs": [
    {
     "data": {
      "text/html": [
       "<div>\n",
       "<style scoped>\n",
       "    .dataframe tbody tr th:only-of-type {\n",
       "        vertical-align: middle;\n",
       "    }\n",
       "\n",
       "    .dataframe tbody tr th {\n",
       "        vertical-align: top;\n",
       "    }\n",
       "\n",
       "    .dataframe thead th {\n",
       "        text-align: right;\n",
       "    }\n",
       "</style>\n",
       "<table border=\"1\" class=\"dataframe\">\n",
       "  <thead>\n",
       "    <tr style=\"text-align: right;\">\n",
       "      <th></th>\n",
       "      <th>Date</th>\n",
       "      <th>Daily Confirmed</th>\n",
       "      <th>Total Confirmed</th>\n",
       "      <th>Daily Recovered</th>\n",
       "      <th>Total Recovered</th>\n",
       "      <th>Daily Deceased</th>\n",
       "      <th>Total Deceased</th>\n",
       "    </tr>\n",
       "  </thead>\n",
       "  <tbody>\n",
       "    <tr>\n",
       "      <th>0</th>\n",
       "      <td>30 January</td>\n",
       "      <td>1</td>\n",
       "      <td>1</td>\n",
       "      <td>0</td>\n",
       "      <td>0</td>\n",
       "      <td>0</td>\n",
       "      <td>0</td>\n",
       "    </tr>\n",
       "    <tr>\n",
       "      <th>1</th>\n",
       "      <td>31 January</td>\n",
       "      <td>0</td>\n",
       "      <td>1</td>\n",
       "      <td>0</td>\n",
       "      <td>0</td>\n",
       "      <td>0</td>\n",
       "      <td>0</td>\n",
       "    </tr>\n",
       "    <tr>\n",
       "      <th>2</th>\n",
       "      <td>01 February</td>\n",
       "      <td>0</td>\n",
       "      <td>1</td>\n",
       "      <td>0</td>\n",
       "      <td>0</td>\n",
       "      <td>0</td>\n",
       "      <td>0</td>\n",
       "    </tr>\n",
       "    <tr>\n",
       "      <th>3</th>\n",
       "      <td>02 February</td>\n",
       "      <td>1</td>\n",
       "      <td>2</td>\n",
       "      <td>0</td>\n",
       "      <td>0</td>\n",
       "      <td>0</td>\n",
       "      <td>0</td>\n",
       "    </tr>\n",
       "    <tr>\n",
       "      <th>4</th>\n",
       "      <td>03 February</td>\n",
       "      <td>1</td>\n",
       "      <td>3</td>\n",
       "      <td>0</td>\n",
       "      <td>0</td>\n",
       "      <td>0</td>\n",
       "      <td>0</td>\n",
       "    </tr>\n",
       "  </tbody>\n",
       "</table>\n",
       "</div>"
      ],
      "text/plain": [
       "           Date  Daily Confirmed  Total Confirmed  Daily Recovered  \\\n",
       "0   30 January                 1                1                0   \n",
       "1   31 January                 0                1                0   \n",
       "2  01 February                 0                1                0   \n",
       "3  02 February                 1                2                0   \n",
       "4  03 February                 1                3                0   \n",
       "\n",
       "   Total Recovered  Daily Deceased  Total Deceased  \n",
       "0                0               0               0  \n",
       "1                0               0               0  \n",
       "2                0               0               0  \n",
       "3                0               0               0  \n",
       "4                0               0               0  "
      ]
     },
     "execution_count": 2,
     "metadata": {},
     "output_type": "execute_result"
    }
   ],
   "source": [
    "corona_dataset_csv = pd.read_csv(\"covidindia.csv\")\n",
    "corona_dataset_csv.head()"
   ]
  },
  {
   "cell_type": "markdown",
   "metadata": {},
   "source": [
    "## Shape of dataframe."
   ]
  },
  {
   "cell_type": "code",
   "execution_count": 3,
   "metadata": {},
   "outputs": [
    {
     "data": {
      "text/plain": [
       "(145, 7)"
      ]
     },
     "execution_count": 3,
     "metadata": {},
     "output_type": "execute_result"
    }
   ],
   "source": [
    "corona_dataset_csv.shape"
   ]
  },
  {
   "cell_type": "markdown",
   "metadata": {},
   "source": [
    "## Removing unnecessary columns."
   ]
  },
  {
   "cell_type": "code",
   "execution_count": 4,
   "metadata": {},
   "outputs": [],
   "source": [
    "corona_dataset_csv.drop([\"Date\",\"Total Confirmed\",\"Daily Recovered\",\"Total Recovered\",\"Daily Deceased\",\"Total Deceased\"],axis=1,inplace=True)"
   ]
  },
  {
   "cell_type": "markdown",
   "metadata": {},
   "source": [
    "## New shape of dataframe."
   ]
  },
  {
   "cell_type": "code",
   "execution_count": 5,
   "metadata": {},
   "outputs": [
    {
     "data": {
      "text/plain": [
       "(145, 1)"
      ]
     },
     "execution_count": 5,
     "metadata": {},
     "output_type": "execute_result"
    }
   ],
   "source": [
    "corona_dataset_csv.shape"
   ]
  },
  {
   "cell_type": "markdown",
   "metadata": {},
   "source": [
    "## New dataframe to .csv file."
   ]
  },
  {
   "cell_type": "code",
   "execution_count": 6,
   "metadata": {},
   "outputs": [],
   "source": [
    "corona_dataset_csv.to_csv(r'newdata.csv', index = False)"
   ]
  },
  {
   "cell_type": "markdown",
   "metadata": {},
   "source": [
    "## .csv file to array."
   ]
  },
  {
   "cell_type": "code",
   "execution_count": 7,
   "metadata": {},
   "outputs": [],
   "source": [
    "Y_full = np.genfromtxt(\"Y_data.csv\", delimiter=\";\", skip_header=1)"
   ]
  },
  {
   "cell_type": "markdown",
   "metadata": {},
   "source": [
    "## Splitting our data as train set, dev set, test set in 80-10-10 ratio.\n",
    "\n",
    "## Validation dataset\n",
    "It is sometimes also called the development set or the \"dev set\". ... The validation dataset functions as a hybrid: it is training data used for testing, but neither as part of the low-level training nor as part of the final testing.\n",
    "\n",
    "#### Train set : 30 January 2020 to 23 May 2020 (115 days).\n",
    "#### Dev set : 24 May 2020 to 7 June 2020 (15 days).\n",
    "#### Test set : 8 June 2020 to 22 June 2020 (15 days)."
   ]
  },
  {
   "cell_type": "code",
   "execution_count": 8,
   "metadata": {},
   "outputs": [],
   "source": [
    "Y_train = np.zeros((115,1))\n",
    "for i in range(0,115):\n",
    "    Y_train[i] = Y_full[i]"
   ]
  },
  {
   "cell_type": "code",
   "execution_count": 9,
   "metadata": {},
   "outputs": [],
   "source": [
    "Y_dev = np.zeros((15,1))\n",
    "for i in range(115,130):\n",
    "     Y_dev[i-115] =Y_full[i]"
   ]
  },
  {
   "cell_type": "code",
   "execution_count": 10,
   "metadata": {},
   "outputs": [],
   "source": [
    "Y_test = np.zeros((15,1))\n",
    "for i in range(130,145):\n",
    "     Y_test[i-130] = Y_full[i]"
   ]
  },
  {
   "cell_type": "markdown",
   "metadata": {},
   "source": [
    "## Shape of train set, dev set, test set."
   ]
  },
  {
   "cell_type": "code",
   "execution_count": 11,
   "metadata": {},
   "outputs": [
    {
     "data": {
      "text/plain": [
       "(115, 1)"
      ]
     },
     "execution_count": 11,
     "metadata": {},
     "output_type": "execute_result"
    }
   ],
   "source": [
    "Y_train.shape"
   ]
  },
  {
   "cell_type": "code",
   "execution_count": 12,
   "metadata": {},
   "outputs": [
    {
     "data": {
      "text/plain": [
       "(15, 1)"
      ]
     },
     "execution_count": 12,
     "metadata": {},
     "output_type": "execute_result"
    }
   ],
   "source": [
    "Y_dev.shape"
   ]
  },
  {
   "cell_type": "code",
   "execution_count": 13,
   "metadata": {},
   "outputs": [
    {
     "data": {
      "text/plain": [
       "(15, 1)"
      ]
     },
     "execution_count": 13,
     "metadata": {},
     "output_type": "execute_result"
    }
   ],
   "source": [
    "Y_test.shape"
   ]
  },
  {
   "cell_type": "markdown",
   "metadata": {},
   "source": [
    "## Plotting train set."
   ]
  },
  {
   "cell_type": "code",
   "execution_count": 14,
   "metadata": {},
   "outputs": [
    {
     "data": {
      "image/png": "[encoded data removed]",
      "text/plain": [
       "<Figure size 432x288 with 1 Axes>"
      ]
     },
     "metadata": {
      "needs_background": "light"
     },
     "output_type": "display_data"
    }
   ],
   "source": [
    "plt.plot(Y_train)\n",
    "plt.ylabel('No. of Daily Confirmed Cases')\n",
    "plt.xlabel('Day No.(starting from 30 January 2020)')\n",
    "plt.title(\"From 30 January 2020 to 23 May 2020 (Train Set)\")\n",
    "plt.show()"
   ]
  },
  {
   "cell_type": "markdown",
   "metadata": {},
   "source": [
    "## Plotting dev set."
   ]
  },
  {
   "cell_type": "code",
   "execution_count": 15,
   "metadata": {},
   "outputs": [
    {
     "data": {
      "image/png": "[encoded data removed]",
      "text/plain": [
       "<Figure size 432x288 with 1 Axes>"
      ]
     },
     "metadata": {
      "needs_background": "light"
     },
     "output_type": "display_data"
    }
   ],
   "source": [
    "plt.plot(Y_dev)\n",
    "plt.ylabel('No. of Daily Confirmed Cases')\n",
    "plt.xlabel('Day No.(starting from 24 May 2020)')\n",
    "plt.title(\"From 24 May 2020 to 7 June 2020 (Dev Set)\")\n",
    "plt.show()"
   ]
  },
  {
   "cell_type": "markdown",
   "metadata": {},
   "source": [
    "## Training regression model using Normal Equation method.\n",
    "\n",
    "Normal Equation is an analytical approach to Linear Regression with a Least Square Cost Function. We can directly find out the value of θ without using Gradient Descent. Following this approach is an effective and a time-saving option when are working with a dataset with small features\n",
    "\n",
    "Reason : As input feature is only one, so there will not be much computations. Also, we donot need to select learning rate,number of iterations,etc hyperparameters."
   ]
  },
  {
   "cell_type": "code",
   "execution_count": 16,
   "metadata": {},
   "outputs": [],
   "source": [
    "def model(X,Y,reg_rate,reg_matrix):\n",
    "    theta = np.dot(np.linalg.inv(np.dot(X.T,X) + reg_rate*reg_matrix),np.dot(X.T,Y))\n",
    "    return theta"
   ]
  },
  {
   "cell_type": "markdown",
   "metadata": {},
   "source": [
    "## Try to find, best hypothesis for the given model.\n",
    "As we have only one input feature, so we have much chance that our model can UNDERFIT, so by adding polynomial features we can reduce underfitting."
   ]
  },
  {
   "cell_type": "markdown",
   "metadata": {},
   "source": [
    "### Input dataset for train set and dev set for different degree hypothesis. Also, regularization matrix for the same degree polynomial."
   ]
  },
  {
   "cell_type": "code",
   "execution_count": 17,
   "metadata": {},
   "outputs": [],
   "source": [
    "#for degree 1\n",
    "X_train1 = np.ones((115,2))\n",
    "for i in range (115):\n",
    "    X_train1[i][1] = (i+1)\n",
    "    \n",
    "X_dev1 = np.ones((15,2))\n",
    "for i in range (115,130):\n",
    "    X_dev1[i-115][1] = (i+1)\n",
    "    \n",
    "reg_matrix1 = np.zeros((2,2))\n",
    "for i in range(1,2):\n",
    "    reg_matrix1[i][i]=1"
   ]
  },
  {
   "cell_type": "code",
   "execution_count": 18,
   "metadata": {},
   "outputs": [],
   "source": [
    "#for degree 2\n",
    "X_train2 = np.ones((115,3))\n",
    "for i in range (115):\n",
    "    X_train2[i][2] = (i+1)**2\n",
    "    X_train2[i][1] = (i+1)\n",
    "    \n",
    "X_dev2 = np.ones((15,3))\n",
    "for i in range (115,130):\n",
    "    X_dev2[i-115][2] = (i+1)**2\n",
    "    X_dev2[i-115][1] = (i+1)\n",
    "    \n",
    "reg_matrix2 = np.zeros((3,3))\n",
    "for i in range(1,3):\n",
    "    reg_matrix2[i][i]=1"
   ]
  },
  {
   "cell_type": "code",
   "execution_count": 19,
   "metadata": {},
   "outputs": [],
   "source": [
    "#for degree 3\n",
    "X_train3 = np.ones((115,4))\n",
    "for i in range (115):\n",
    "    X_train3[i][3] = (i+1)**3\n",
    "    X_train3[i][2] = (i+1)**2\n",
    "    X_train3[i][1] = (i+1)\n",
    "    \n",
    "X_dev3 = np.ones((15,4))\n",
    "for i in range (115,130):\n",
    "    X_dev3[i-115][3] = (i+1)**3\n",
    "    X_dev3[i-115][2] = (i+1)**2\n",
    "    X_dev3[i-115][1] = (i+1)\n",
    "    \n",
    "reg_matrix3 = np.zeros((4,4))\n",
    "for i in range(1,4):\n",
    "    reg_matrix3[i][i]=1"
   ]
  },
  {
   "cell_type": "code",
   "execution_count": 20,
   "metadata": {},
   "outputs": [],
   "source": [
    "#for degree 4\n",
    "X_train4 = np.ones((115,5))\n",
    "for i in range (115):\n",
    "    X_train4[i][4] = (i+1)**4\n",
    "    X_train4[i][3] = (i+1)**3\n",
    "    X_train4[i][2] = (i+1)**2\n",
    "    X_train4[i][1] = (i+1)\n",
    "    \n",
    "X_dev4 = np.ones((15,5))\n",
    "for i in range (115,130):\n",
    "    X_dev4[i-115][4] = (i+1)**4\n",
    "    X_dev4[i-115][3] = (i+1)**3\n",
    "    X_dev4[i-115][2] = (i+1)**2\n",
    "    X_dev4[i-115][1] = (i+1)\n",
    "    \n",
    "reg_matrix4 = np.zeros((5,5))\n",
    "for i in range(1,5):\n",
    "    reg_matrix4[i][i]=1"
   ]
  },
  {
   "cell_type": "markdown",
   "metadata": {},
   "source": [
    "### Hypothesis for different degrees."
   ]
  },
  {
   "cell_type": "code",
   "execution_count": 21,
   "metadata": {},
   "outputs": [],
   "source": [
    "def hypothesis_deg1(theta,x):\n",
    "    pred_value1 = theta[0] + theta[1]*x\n",
    "    return pred_value1"
   ]
  },
  {
   "cell_type": "code",
   "execution_count": 22,
   "metadata": {},
   "outputs": [],
   "source": [
    "def hypothesis_deg2(theta,x):\n",
    "    pred_value2 = theta[0] + theta[1]*x + theta[2]*(x**2)\n",
    "    return pred_value2"
   ]
  },
  {
   "cell_type": "code",
   "execution_count": 23,
   "metadata": {},
   "outputs": [],
   "source": [
    "def hypothesis_deg3(theta,x):\n",
    "    pred_value3 = theta[0] + theta[1]*x + theta[2]*(x**2) + theta[3]*(x**3)\n",
    "    return pred_value3"
   ]
  },
  {
   "cell_type": "code",
   "execution_count": 24,
   "metadata": {},
   "outputs": [],
   "source": [
    "def hypothesis_deg4(theta,x):\n",
    "    pred_value4 = theta[0] + theta[1]*x + theta[2]*(x**2) + theta[3]*(x**3) + theta[4]*(x**4)\n",
    "    return pred_value4"
   ]
  },
  {
   "cell_type": "markdown",
   "metadata": {},
   "source": [
    "### Cost function for different degree hypothesis."
   ]
  },
  {
   "cell_type": "code",
   "execution_count": 25,
   "metadata": {},
   "outputs": [],
   "source": [
    "def compute_cost1(X,Y,theta,reg_rate):\n",
    "    L = X.shape[0]\n",
    "    cost=0\n",
    "    for l in range (L):\n",
    "        h = hypothesis_deg1(theta,X[l][1])\n",
    "        squared_error = (h - Y[l])**2 \n",
    "        cost += squared_error\n",
    "    np.squeeze(cost)\n",
    "    return 1/(2*l)*(cost+ reg_rate*(theta[1]**2))"
   ]
  },
  {
   "cell_type": "code",
   "execution_count": 26,
   "metadata": {},
   "outputs": [],
   "source": [
    "def compute_cost2(X,Y,theta,reg_rate):\n",
    "    L = X.shape[0]\n",
    "    cost=0\n",
    "    for l in range (L):\n",
    "        h = hypothesis_deg2(theta,X[l][1])\n",
    "        squared_error = (h - Y[l])**2 \n",
    "        cost += squared_error\n",
    "    np.squeeze(cost)\n",
    "    return 1/(2*l)*(cost+ reg_rate*(theta[1]**2+theta[2]**2))"
   ]
  },
  {
   "cell_type": "code",
   "execution_count": 27,
   "metadata": {},
   "outputs": [],
   "source": [
    "def compute_cost3(X,Y,theta,reg_rate):\n",
    "    L = X.shape[0]\n",
    "    cost=0\n",
    "    for l in range (L):\n",
    "        h = hypothesis_deg3(theta,X[l][1])\n",
    "        squared_error = (h - Y[l])**2 \n",
    "        cost += squared_error\n",
    "    np.squeeze(cost)\n",
    "    return 1/(2*l)*(cost+ reg_rate*(theta[1]**2+theta[2]**2+theta[3]**2))"
   ]
  },
  {
   "cell_type": "code",
   "execution_count": 28,
   "metadata": {},
   "outputs": [],
   "source": [
    "def compute_cost4(X,Y,theta,reg_rate):\n",
    "    L = X.shape[0]\n",
    "    cost=0\n",
    "    for l in range (L):\n",
    "        h = hypothesis_deg4(theta,X[l][1])\n",
    "        squared_error = (h - Y[l])**2 \n",
    "        cost += squared_error\n",
    "    np.squeeze(cost)\n",
    "    return 1/(2*l)*(cost+ reg_rate*(theta[1]**2+theta[2]**2+theta[3]**2++theta[4]**2))"
   ]
  },
  {
   "cell_type": "markdown",
   "metadata": {},
   "source": [
    "## Finding best hypothesis using  model trained by train set and predicted on dev set."
   ]
  },
  {
   "cell_type": "code",
   "execution_count": 29,
   "metadata": {},
   "outputs": [
    {
     "data": {
      "image/png": "[encoded data removed]",
      "text/plain": [
       "<Figure size 432x288 with 1 Axes>"
      ]
     },
     "metadata": {
      "needs_background": "light"
     },
     "output_type": "display_data"
    }
   ],
   "source": [
    "J_train = np.ones((4,1))\n",
    "J_dev = np.ones((4,1))\n",
    "\n",
    "theta1 = model(X_train1,Y_train,0,reg_matrix1)\n",
    "J_train[0] = compute_cost1(X_train1,Y_train,theta1,0)\n",
    "J_dev[0] = compute_cost1(X_dev1,Y_dev,theta1,0)\n",
    "\n",
    "theta2 = model(X_train2,Y_train,0,reg_matrix2)\n",
    "J_train[1] = compute_cost2(X_train2,Y_train,theta2,0)\n",
    "J_dev[1] = compute_cost2(X_dev2,Y_dev,theta2,0)\n",
    "\n",
    "theta3 = model(X_train3,Y_train,0,reg_matrix3)\n",
    "J_train[2] = compute_cost3(X_train3,Y_train,theta3,0)\n",
    "J_dev[2] = compute_cost3(X_dev3,Y_dev,theta3,0)\n",
    "\n",
    "theta4 = model(X_train4,Y_train,0,reg_matrix4)\n",
    "J_train[3] = compute_cost4(X_train4,Y_train,theta4,0)\n",
    "J_dev[3] = compute_cost4(X_dev4,Y_dev,theta4,0)\n",
    "\n",
    "J_train_improved = np.log(J_train*1e+10)\n",
    "J_dev_improved = np.log(J_dev*1e+10)\n",
    "plt.plot(J_train,label=\"J_train\")\n",
    "plt.plot(J_dev,label=\"J_dev\")\n",
    "plt.legend()\n",
    "\n",
    "plt.title(\"Plot to find the optimal degree of Hypothesis (It will be 1 more than the index)\")\n",
    "plt.show()"
   ]
  },
  {
   "cell_type": "markdown",
   "metadata": {},
   "source": [
    "We get best values at index=2.\n",
    "So, 3rd degree hypothesis is best fit."
   ]
  },
  {
   "cell_type": "markdown",
   "metadata": {},
   "source": [
    "## Final model trained without regularization."
   ]
  },
  {
   "cell_type": "code",
   "execution_count": 30,
   "metadata": {},
   "outputs": [
    {
     "data": {
      "text/plain": [
       "array([26447.13797917])"
      ]
     },
     "execution_count": 30,
     "metadata": {},
     "output_type": "execute_result"
    }
   ],
   "source": [
    "theta_final = model(X_train3,Y_train,0,reg_matrix3)\n",
    "J_train_final = compute_cost3(X_train3,Y_train,theta3,0)\n",
    "J_train_final"
   ]
  },
  {
   "cell_type": "markdown",
   "metadata": {},
   "source": [
    "## Regularization parameter tuning."
   ]
  },
  {
   "cell_type": "code",
   "execution_count": 31,
   "metadata": {},
   "outputs": [
    {
     "data": {
      "image/png": "[encoded data removed]",
      "text/plain": [
       "<Figure size 432x288 with 1 Axes>"
      ]
     },
     "metadata": {
      "needs_background": "light"
     },
     "output_type": "display_data"
    }
   ],
   "source": [
    "J_trains = []\n",
    "J_devs=[]\n",
    "i= 1e-25\n",
    "while i<1e+5:\n",
    "    theta_final = model(X_train3,Y_train,i,reg_matrix3)\n",
    "    J_train_final = compute_cost3(X_train3,Y_train,theta_final,i)\n",
    "    J_dev_final = compute_cost3(X_dev3,Y_dev,theta_final,i)\n",
    "    i *= 10\n",
    "    J_trains.append(J_train_final)\n",
    "    J_devs.append(J_dev_final)\n",
    "plt.plot(J_trains,label=\"J_trains\")\n",
    "plt.plot(J_devs,label=\"J_devs\")\n",
    "plt.xlabel(\"Index of J_trains & J_devs\")\n",
    "plt.ylabel(\"Cost\")\n",
    "plt.title(\"For tuning regularization hyperparameter\")\n",
    "plt.legend()\n",
    "plt.show()"
   ]
  },
  {
   "cell_type": "code",
   "execution_count": 32,
   "metadata": {},
   "outputs": [
    {
     "data": {
      "text/plain": [
       "[array([26447.13797917]),\n",
       " array([26447.13797917]),\n",
       " array([26447.13797917]),\n",
       " array([26447.13797917]),\n",
       " array([26447.13797917]),\n",
       " array([26447.13797917]),\n",
       " array([26447.13797917]),\n",
       " array([26447.13797917]),\n",
       " array([26447.13797917]),\n",
       " array([26447.13797917]),\n",
       " array([26447.13797917]),\n",
       " array([26447.13797917]),\n",
       " array([26447.13797917]),\n",
       " array([26447.13797917]),\n",
       " array([26447.13797917]),\n",
       " array([26447.13797917]),\n",
       " array([26447.13797917]),\n",
       " array([26447.1379792]),\n",
       " array([26447.13797947]),\n",
       " array([26447.13798215]),\n",
       " array([26447.13800903]),\n",
       " array([26447.13827783]),\n",
       " array([26447.14096578]),\n",
       " array([26447.16784507]),\n",
       " array([26447.43661607]),\n",
       " array([26450.12214279]),\n",
       " array([26476.76085374]),\n",
       " array([26723.13463323]),\n",
       " array([28087.23675946]),\n",
       " array([29697.0113056])]"
      ]
     },
     "execution_count": 32,
     "metadata": {},
     "output_type": "execute_result"
    }
   ],
   "source": [
    "J_trains"
   ]
  },
  {
   "cell_type": "code",
   "execution_count": 33,
   "metadata": {},
   "outputs": [
    {
     "data": {
      "text/plain": [
       "[array([141334.68331128]),\n",
       " array([141334.68331128]),\n",
       " array([141334.68331128]),\n",
       " array([141334.68331128]),\n",
       " array([141334.68331128]),\n",
       " array([141334.68331128]),\n",
       " array([141334.68331128]),\n",
       " array([141334.68331128]),\n",
       " array([141334.68331128]),\n",
       " array([141334.68331128]),\n",
       " array([141334.68331128]),\n",
       " array([141334.68331128]),\n",
       " array([141334.68331128]),\n",
       " array([141334.68331128]),\n",
       " array([141334.68331128]),\n",
       " array([141334.68331117]),\n",
       " array([141334.68331128]),\n",
       " array([141334.68331185]),\n",
       " array([141334.68331756]),\n",
       " array([141334.68337522]),\n",
       " array([141334.68395036]),\n",
       " array([141334.68970339]),\n",
       " array([141334.74723268]),\n",
       " array([141335.32252175]),\n",
       " array([141341.07513056]),\n",
       " array([141398.57304456]),\n",
       " array([141970.74263195]),\n",
       " array([147419.88102648]),\n",
       " array([182724.80189331]),\n",
       " array([235454.29738805])]"
      ]
     },
     "execution_count": 33,
     "metadata": {},
     "output_type": "execute_result"
    }
   ],
   "source": [
    "J_devs"
   ]
  },
  {
   "cell_type": "markdown",
   "metadata": {},
   "source": [
    "As, there is no much diffrerence by using regularization, but we can use it for ensuring invertibility of matrix in model training.\n",
    "Best result are seen at regularization parameter = 10<sup>-10</sup>."
   ]
  },
  {
   "cell_type": "markdown",
   "metadata": {},
   "source": [
    "## Final Model"
   ]
  },
  {
   "cell_type": "code",
   "execution_count": 34,
   "metadata": {},
   "outputs": [],
   "source": [
    "lambd = 1e-10\n",
    "theta_final = model(X_train3,Y_train,lambd,reg_matrix3)\n",
    "J_train_final = compute_cost3(X_train3,Y_train,theta_final,lambd)\n",
    "J_dev_final = compute_cost3(X_dev3,Y_dev,theta_final,lambd)"
   ]
  },
  {
   "cell_type": "markdown",
   "metadata": {},
   "source": [
    "### Parameter values."
   ]
  },
  {
   "cell_type": "code",
   "execution_count": 35,
   "metadata": {},
   "outputs": [
    {
     "data": {
      "text/plain": [
       "array([[-1.58907720e+02],\n",
       "       [ 2.60765784e+01],\n",
       "       [-9.79794346e-01],\n",
       "       [ 1.07663302e-02]])"
      ]
     },
     "execution_count": 35,
     "metadata": {},
     "output_type": "execute_result"
    }
   ],
   "source": [
    "theta_final"
   ]
  },
  {
   "cell_type": "markdown",
   "metadata": {},
   "source": [
    "### Cost of train set."
   ]
  },
  {
   "cell_type": "code",
   "execution_count": 36,
   "metadata": {},
   "outputs": [
    {
     "data": {
      "text/plain": [
       "array([26447.13797917])"
      ]
     },
     "execution_count": 36,
     "metadata": {},
     "output_type": "execute_result"
    }
   ],
   "source": [
    "J_train_final"
   ]
  },
  {
   "cell_type": "markdown",
   "metadata": {},
   "source": [
    "### Cost of dev set."
   ]
  },
  {
   "cell_type": "code",
   "execution_count": 37,
   "metadata": {},
   "outputs": [
    {
     "data": {
      "text/plain": [
       "array([141334.68331117])"
      ]
     },
     "execution_count": 37,
     "metadata": {},
     "output_type": "execute_result"
    }
   ],
   "source": [
    "J_dev_final"
   ]
  },
  {
   "cell_type": "markdown",
   "metadata": {},
   "source": [
    "## Finding accuracy on test set."
   ]
  },
  {
   "cell_type": "code",
   "execution_count": 38,
   "metadata": {},
   "outputs": [],
   "source": [
    "X_test = np.ones((15,1))\n",
    "for i in range (130,145):\n",
    "    X_test[i-130] = (i+1)\n",
    "\n",
    "Y_test_predicted = np.zeros((15,1))\n",
    "for i in range(15):\n",
    "    Y_test_predicted[i] = hypothesis_deg3(theta_final,X_test[i]) "
   ]
  },
  {
   "cell_type": "code",
   "execution_count": 39,
   "metadata": {},
   "outputs": [
    {
     "name": "stdout",
     "output_type": "stream",
     "text": [
      "Accuracy of model in test set(8 June 2020 to 22 June 200) is : 90.268762 percent\n"
     ]
    }
   ],
   "source": [
    "total_diff = 0\n",
    "for i in range(15):\n",
    "    diff = np.abs(Y_test[i]-Y_test_predicted[i])\n",
    "    total_diff+=diff/Y_test[i]\n",
    "accuracy = 100 - (total_diff/15)*100\n",
    "print(\"Accuracy of model in test set(8 June 2020 to 22 June 200) is : %f percent\"%(accuracy))    "
   ]
  },
  {
   "cell_type": "markdown",
   "metadata": {},
   "source": [
    "## Plotting original values vs predicted values of Daily Confirmed Cases."
   ]
  },
  {
   "cell_type": "code",
   "execution_count": 40,
   "metadata": {},
   "outputs": [
    {
     "data": {
      "text/plain": [
       "<matplotlib.legend.Legend at 0x1deec172108>"
      ]
     },
     "execution_count": 40,
     "metadata": {},
     "output_type": "execute_result"
    },
    {
     "data": {
      "image/png": "[encoded data removed]",
      "text/plain": [
       "<Figure size 432x288 with 1 Axes>"
      ]
     },
     "metadata": {
      "needs_background": "light"
     },
     "output_type": "display_data"
    }
   ],
   "source": [
    "X_full = np.ones((145,1))\n",
    "for i in range (0,145):\n",
    "    X_full[i] = (i+1)\n",
    "Y_full_predicted = np.zeros((145,1))\n",
    "for i in range(145):\n",
    "    Y_full_predicted[i] = hypothesis_deg3(theta_final,X_full[i])\n",
    "plt.plot(Y_full,label=\"Original Values\")\n",
    "plt.plot(Y_full_predicted,label=\"Predicted Values\")\n",
    "plt.ylabel('No. of Daily Confirmed Cases')\n",
    "plt.xlabel('Day No.(starting from 30 January 2020)')\n",
    "plt.title(\"From 30 January 2020 to 22 June 2020 (Dev Set)\")\n",
    "plt.legend()"
   ]
  },
  {
   "cell_type": "markdown",
   "metadata": {},
   "source": [
    "## To predict value of Daily Confirmed Case by entering date.\n"
   ]
  },
  {
   "cell_type": "code",
   "execution_count": 41,
   "metadata": {},
   "outputs": [],
   "source": [
    "from datetime import date \n",
    "\n",
    "def numOfDays(y,m,d): \n",
    "    date1 = date(2020,1,30)\n",
    "    return (date(y,m,d)-date1).days + 1 "
   ]
  },
  {
   "cell_type": "code",
   "execution_count": 42,
   "metadata": {},
   "outputs": [
    {
     "name": "stdout",
     "output_type": "stream",
     "text": [
      "Enter date for which you want to check the predicted value of cases:\n",
      "Day=28\n",
      "Month=07\n",
      "Year=2020\n",
      "Predicted value for 28/7/2020 : 36303\n"
     ]
    }
   ],
   "source": [
    "print(\"Enter date for which you want to check the predicted value of cases:\")\n",
    "day=int(input(\"Day=\"))\n",
    "month=int(input(\"Month=\"))\n",
    "year=int(input(\"Year=\"))\n",
    "day_no = numOfDays(year,month,day)\n",
    "value = hypothesis_deg3(theta_final,day_no)\n",
    "print(\"Predicted value for %i/%i/%i : %i\"%(day,month,year,value))"
   ]
  },
  {
   "cell_type": "code",
   "execution_count": null,
   "metadata": {},
   "outputs": [],
   "source": []
  },
  {
   "cell_type": "code",
   "execution_count": null,
   "metadata": {},
   "outputs": [],
   "source": []
  },
  {
   "cell_type": "code",
   "execution_count": null,
   "metadata": {},
   "outputs": [],
   "source": []
  },
  {
   "cell_type": "code",
   "execution_count": null,
   "metadata": {},
   "outputs": [],
   "source": []
  }
 ],
 "metadata": {
  "kernelspec": {
   "display_name": "Python 3",
   "language": "python",
   "name": "python3"
  },
  "language_info": {
   "codemirror_mode": {
    "name": "ipython",
    "version": 3
   },
   "file_extension": ".py",
   "mimetype": "text/x-python",
   "name": "python",
   "nbconvert_exporter": "python",
   "pygments_lexer": "ipython3",
   "version": "3.8.3"
  }
 },
 "nbformat": 4,
 "nbformat_minor": 2
}
